{
 "cells": [
  {
   "cell_type": "markdown",
   "metadata": {
    "collapsed": true
   },
   "source": [
    "# Image Classification\n",
    "In this project, you'll classify images from the [CIFAR-10 dataset](https://www.cs.toronto.edu/~kriz/cifar.html).  The dataset consists of airplanes, dogs, cats, and other objects. You'll preprocess the images, then train a convolutional neural network on all the samples. The images need to be normalized and the labels need to be one-hot encoded.  You'll get to apply what you learned and build a convolutional, max pooling, dropout, and fully connected layers.  At the end, you'll get to see your neural network's predictions on the sample images.\n",
    "## Get the Data\n",
    "Run the following cell to download the [CIFAR-10 dataset for python](https://www.cs.toronto.edu/~kriz/cifar-10-python.tar.gz)."
   ]
  },
  {
   "cell_type": "code",
   "execution_count": 350,
   "metadata": {
    "collapsed": false
   },
   "outputs": [
    {
     "name": "stdout",
     "output_type": "stream",
     "text": [
      "All files found!\n"
     ]
    }
   ],
   "source": [
    "\"\"\"\n",
    "DON'T MODIFY ANYTHING IN THIS CELL THAT IS BELOW THIS LINE\n",
    "\"\"\"\n",
    "from urllib.request import urlretrieve\n",
    "from os.path import isfile, isdir\n",
    "from tqdm import tqdm\n",
    "import problem_unittests as tests\n",
    "import tarfile\n",
    "\n",
    "cifar10_dataset_folder_path = 'cifar-10-batches-py'\n",
    "\n",
    "class DLProgress(tqdm):\n",
    "    last_block = 0\n",
    "\n",
    "    def hook(self, block_num=1, block_size=1, total_size=None):\n",
    "        self.total = total_size\n",
    "        self.update((block_num - self.last_block) * block_size)\n",
    "        self.last_block = block_num\n",
    "\n",
    "if not isfile('cifar-10-python.tar.gz'):\n",
    "    with DLProgress(unit='B', unit_scale=True, miniters=1, desc='CIFAR-10 Dataset') as pbar:\n",
    "        urlretrieve(\n",
    "            'https://www.cs.toronto.edu/~kriz/cifar-10-python.tar.gz',\n",
    "            'cifar-10-python.tar.gz',\n",
    "            pbar.hook)\n",
    "\n",
    "if not isdir(cifar10_dataset_folder_path):\n",
    "    with tarfile.open('cifar-10-python.tar.gz') as tar:\n",
    "        tar.extractall()\n",
    "        tar.close()\n",
    "\n",
    "\n",
    "tests.test_folder_path(cifar10_dataset_folder_path)"
   ]
  },
  {
   "cell_type": "markdown",
   "metadata": {},
   "source": [
    "## Explore the Data\n",
    "The dataset is broken into batches to prevent your machine from running out of memory.  The CIFAR-10 dataset consists of 5 batches, named `data_batch_1`, `data_batch_2`, etc.. Each batch contains the labels and images that are one of the following:\n",
    "* airplane\n",
    "* automobile\n",
    "* bird\n",
    "* cat\n",
    "* deer\n",
    "* dog\n",
    "* frog\n",
    "* horse\n",
    "* ship\n",
    "* truck\n",
    "\n",
    "Understanding a dataset is part of making predictions on the data.  Play around with the code cell below by changing the `batch_id` and `sample_id`. The `batch_id` is the id for a batch (1-5). The `sample_id` is the id for a image and label pair in the batch.\n",
    "\n",
    "Ask yourself \"What are all possible labels?\", \"What is the range of values for the image data?\", \"Are the labels in order or random?\".  Answers to questions like these will help you preprocess the data and end up with better predictions."
   ]
  },
  {
   "cell_type": "code",
   "execution_count": 351,
   "metadata": {
    "collapsed": false
   },
   "outputs": [
    {
     "name": "stdout",
     "output_type": "stream",
     "text": [
      "\n",
      "Stats of batch 5:\n",
      "Samples: 10000\n",
      "Label Counts: {0: 1014, 1: 1014, 2: 952, 3: 1016, 4: 997, 5: 1025, 6: 980, 7: 977, 8: 1003, 9: 1022}\n",
      "First 20 Labels: [1, 8, 5, 1, 5, 7, 4, 3, 8, 2, 7, 2, 0, 1, 5, 9, 6, 2, 0, 8]\n",
      "\n",
      "Example of Image 1:\n",
      "Image - Min Value: 1 Max Value: 244\n",
      "Image - Shape: (32, 32, 3)\n",
      "Label - Label Id: 8 Name: ship\n"
     ]
    },
    {
     "data": {
      "image/png": "[encoded data removed]",
      "text/plain": [
       "<matplotlib.figure.Figure at 0x116e6ab38>"
      ]
     },
     "metadata": {
      "image/png": {
       "height": 250,
       "width": 253
      }
     },
     "output_type": "display_data"
    }
   ],
   "source": [
    "%matplotlib inline\n",
    "%config InlineBackend.figure_format = 'retina'\n",
    "\n",
    "import helper\n",
    "import numpy as np\n",
    "\n",
    "# Explore the dataset\n",
    "batch_id = 5\n",
    "sample_id = 1\n",
    "helper.display_stats(cifar10_dataset_folder_path, batch_id, sample_id)"
   ]
  },
  {
   "cell_type": "markdown",
   "metadata": {},
   "source": [
    "## Implement Preprocess Functions\n",
    "### Normalize\n",
    "In the cell below, implement the `normalize` function to take in image data, `x`, and return it as a normalized Numpy array. The values should be in the range of 0 to 1, inclusive.  The return object should be the same shape as `x`."
   ]
  },
  {
   "cell_type": "code",
   "execution_count": 352,
   "metadata": {
    "collapsed": false
   },
   "outputs": [
    {
     "name": "stdout",
     "output_type": "stream",
     "text": [
      "Tests Passed\n"
     ]
    }
   ],
   "source": [
    "def normalize(x):\n",
    "    \"\"\"\n",
    "    Normalize a list of sample image data in the range of 0 to 1\n",
    "    : x: List of image data.  The image shape is (32, 32, 3)\n",
    "    : return: Numpy array of normalize data\n",
    "    \"\"\"\n",
    "    # TODO: Implement Function\n",
    "    x = np.array(x)\n",
    "    x_min = x.min()\n",
    "    x_max = x.max()\n",
    "    x = (x - x_min) / (x_max - x_min)\n",
    "    \n",
    "    return x \n",
    "\n",
    "\n",
    "\"\"\"\n",
    "DON'T MODIFY ANYTHING IN THIS CELL THAT IS BELOW THIS LINE\n",
    "\"\"\"\n",
    "tests.test_normalize(normalize)"
   ]
  },
  {
   "cell_type": "markdown",
   "metadata": {},
   "source": [
    "### One-hot encode\n",
    "Just like the previous code cell, you'll be implementing a function for preprocessing.  This time, you'll implement the `one_hot_encode` function. The input, `x`, are a list of labels.  Implement the function to return the list of labels as One-Hot encoded Numpy array.  The possible values for labels are 0 to 9. The one-hot encoding function should return the same encoding for each value between each call to `one_hot_encode`.  Make sure to save the map of encodings outside the function.\n",
    "\n",
    "Hint: Don't reinvent the wheel."
   ]
  },
  {
   "cell_type": "code",
   "execution_count": null,
   "metadata": {
    "collapsed": true
   },
   "outputs": [],
   "source": []
  },
  {
   "cell_type": "code",
   "execution_count": 353,
   "metadata": {
    "collapsed": false
   },
   "outputs": [
    {
     "name": "stdout",
     "output_type": "stream",
     "text": [
      "Tests Passed\n"
     ]
    }
   ],
   "source": [
    "from sklearn.preprocessing import label_binarize \n",
    "from sklearn import preprocessing \n",
    "n_values = [0,1,2,3,4,5,6,7,8,9]\n",
    "def one_hot_encode(x):\n",
    "    \"\"\"\n",
    "    One hot encode a list of sample labels. Return a one-hot encoded vector for each label.\n",
    "    : x: List of sample Labels\n",
    "    : return: Numpy array of one-hot encoded labels\n",
    "    \"\"\"\n",
    "    # TODO: Implement Function\n",
    "    x = np.array(x)\n",
    "    return label_binarize(x,classes = n_values)\n",
    "\n",
    "\n",
    "\"\"\"\n",
    "DON'T MODIFY ANYTHING IN THIS CELL THAT IS BELOW THIS LINE\n",
    "\"\"\"\n",
    "tests.test_one_hot_encode(one_hot_encode)"
   ]
  },
  {
   "cell_type": "markdown",
   "metadata": {},
   "source": [
    "### Randomize Data\n",
    "As you saw from exploring the data above, the order of the samples are randomized.  It doesn't hurt to randomize it again, but you don't need to for this dataset."
   ]
  },
  {
   "cell_type": "markdown",
   "metadata": {},
   "source": [
    "## Preprocess all the data and save it\n",
    "Running the code cell below will preprocess all the CIFAR-10 data and save it to file. The code below also uses 10% of the training data for validation."
   ]
  },
  {
   "cell_type": "code",
   "execution_count": 354,
   "metadata": {
    "collapsed": false
   },
   "outputs": [],
   "source": [
    "\"\"\"\n",
    "DON'T MODIFY ANYTHING IN THIS CELL\n",
    "\"\"\"\n",
    "# Preprocess Training, Validation, and Testing Data\n",
    "helper.preprocess_and_save_data(cifar10_dataset_folder_path, normalize, one_hot_encode)"
   ]
  },
  {
   "cell_type": "markdown",
   "metadata": {},
   "source": [
    "# Check Point\n",
    "This is your first checkpoint.  If you ever decide to come back to this notebook or have to restart the notebook, you can start from here.  The preprocessed data has been saved to disk."
   ]
  },
  {
   "cell_type": "code",
   "execution_count": 355,
   "metadata": {
    "collapsed": true
   },
   "outputs": [],
   "source": [
    "\"\"\"\n",
    "DON'T MODIFY ANYTHING IN THIS CELL\n",
    "\"\"\"\n",
    "import pickle\n",
    "import problem_unittests as tests\n",
    "import helper\n",
    "\n",
    "# Load the Preprocessed Validation data\n",
    "valid_features, valid_labels = pickle.load(open('preprocess_validation.p', mode='rb'))"
   ]
  },
  {
   "cell_type": "markdown",
   "metadata": {},
   "source": [
    "## Build the network\n",
    "For the neural network, you'll build each layer into a function.  Most of the code you've seen has been outside of functions. To test your code more thoroughly, we require that you put each layer in a function.  This allows us to give you better feedback and test for simple mistakes using our unittests before you submit your project.\n",
    "\n",
    "If you're finding it hard to dedicate enough time for this course a week, we've provided a small shortcut to this part of the project. In the next couple of problems, you'll have the option to use [TensorFlow Layers](https://www.tensorflow.org/api_docs/python/tf/layers) or [TensorFlow Layers (contrib)](https://www.tensorflow.org/api_guides/python/contrib.layers) to build each layer, except \"Convolutional & Max Pooling\" layer.  TF Layers is similar to Keras's and TFLearn's abstraction to layers, so it's easy to pickup.\n",
    "\n",
    "If you would like to get the most of this course, try to solve all the problems without TF Layers.  Let's begin!\n",
    "### Input\n",
    "The neural network needs to read the image data, one-hot encoded labels, and dropout keep probability. Implement the following functions\n",
    "* Implement `neural_net_image_input`\n",
    " * Return a [TF Placeholder](https://www.tensorflow.org/api_docs/python/tf/placeholder)\n",
    " * Set the shape using `image_shape` with batch size set to `None`.\n",
    " * Name the TensorFlow placeholder \"x\" using the TensorFlow `name` parameter in the [TF Placeholder](https://www.tensorflow.org/api_docs/python/tf/placeholder).\n",
    "* Implement `neural_net_label_input`\n",
    " * Return a [TF Placeholder](https://www.tensorflow.org/api_docs/python/tf/placeholder)\n",
    " * Set the shape using `n_classes` with batch size set to `None`.\n",
    " * Name the TensorFlow placeholder \"y\" using the TensorFlow `name` parameter in the [TF Placeholder](https://www.tensorflow.org/api_docs/python/tf/placeholder).\n",
    "* Implement `neural_net_keep_prob_input`\n",
    " * Return a [TF Placeholder](https://www.tensorflow.org/api_docs/python/tf/placeholder) for dropout keep probability.\n",
    " * Name the TensorFlow placeholder \"keep_prob\" using the TensorFlow `name` parameter in the [TF Placeholder](https://www.tensorflow.org/api_docs/python/tf/placeholder).\n",
    "\n",
    "These names will be used at the end of the project to load your saved model.\n",
    "\n",
    "Note: `None` for shapes in TensorFlow allow for a dynamic size."
   ]
  },
  {
   "cell_type": "code",
   "execution_count": null,
   "metadata": {
    "collapsed": true
   },
   "outputs": [],
   "source": []
  },
  {
   "cell_type": "code",
   "execution_count": 356,
   "metadata": {
    "collapsed": false
   },
   "outputs": [
    {
     "name": "stdout",
     "output_type": "stream",
     "text": [
      "Image Input Tests Passed.\n",
      "Label Input Tests Passed.\n",
      "Keep Prob Tests Passed.\n"
     ]
    }
   ],
   "source": [
    "import tensorflow as tf\n",
    "\n",
    "def neural_net_image_input(image_shape):\n",
    "    \"\"\"\n",
    "    Return a Tensor for a bach of image input\n",
    "    : image_shape: Shape of the images\n",
    "    : return: Tensor for image input.\n",
    "    \"\"\"\n",
    "    # TODO: Implement Function\n",
    "    image_height = image_shape[0]\n",
    "    image_width = image_shape[1]\n",
    "    color_channels = image_shape[2]\n",
    "\n",
    "    return tf.placeholder(tf.float32,shape=[None, image_height, image_width, color_channels], name = 'x')\n",
    "\n",
    "\n",
    "def neural_net_label_input(n_classes):\n",
    "    \"\"\"\n",
    "    Return a Tensor for a batch of label input\n",
    "    : n_classes: Number of classes\n",
    "    : return: Tensor for label input.\n",
    "    \"\"\"\n",
    "    # TODO: Implement Function\n",
    "    return tf.placeholder(tf.float32,shape = [None,n_classes],name = 'y')\n",
    "\n",
    "\n",
    "def neural_net_keep_prob_input():\n",
    "    \"\"\"\n",
    "    Return a Tensor for keep probability\n",
    "    : return: Tensor for keep probability.\n",
    "    \"\"\"\n",
    "    # TODO: Implement Function\n",
    "    return tf.placeholder(tf.float32,name = 'keep_prob')\n",
    "\n",
    "\n",
    "\"\"\"\n",
    "DON'T MODIFY ANYTHING IN THIS CELL THAT IS BELOW THIS LINE\n",
    "\"\"\"\n",
    "tf.reset_default_graph()\n",
    "tests.test_nn_image_inputs(neural_net_image_input)\n",
    "tests.test_nn_label_inputs(neural_net_label_input)\n",
    "tests.test_nn_keep_prob_inputs(neural_net_keep_prob_input)"
   ]
  },
  {
   "cell_type": "markdown",
   "metadata": {},
   "source": [
    "### Convolution and Max Pooling Layer\n",
    "Convolution layers have a lot of success with images. For this code cell, you should implement the function `conv2d_maxpool` to apply convolution then max pooling:\n",
    "* Create the weight and bias using `conv_ksize`, `conv_num_outputs` and the shape of `x_tensor`.\n",
    "* Apply a convolution to `x_tensor` using weight and `conv_strides`.\n",
    " * We recommend you use same padding, but you're welcome to use any padding.\n",
    "* Add bias\n",
    "* Add a nonlinear activation to the convolution.\n",
    "* Apply Max Pooling using `pool_ksize` and `pool_strides`.\n",
    " * We recommend you use same padding, but you're welcome to use any padding.\n",
    "\n",
    "Note: You **can't** use [TensorFlow Layers](https://www.tensorflow.org/api_docs/python/tf/layers) or [TensorFlow Layers (contrib)](https://www.tensorflow.org/api_guides/python/contrib.layers) for this layer.  You're free to use any TensorFlow package for all the other layers."
   ]
  },
  {
   "cell_type": "code",
   "execution_count": 357,
   "metadata": {
    "collapsed": false
   },
   "outputs": [
    {
     "name": "stdout",
     "output_type": "stream",
     "text": [
      "Tests Passed\n"
     ]
    }
   ],
   "source": [
    "def conv2d_maxpool(x_tensor, conv_num_outputs, conv_ksize, conv_strides, pool_ksize, pool_strides):\n",
    "    \"\"\"\n",
    "    Apply convolution then max pooling to x_tensor\n",
    "    :param x_tensor: TensorFlow Tensor\n",
    "    :param conv_num_outputs: Number of outputs for the convolutional layer\n",
    "    :param conv_strides: Stride 2-D Tuple for convolution\n",
    "    :param pool_ksize: kernal size 2-D Tuple for pool\n",
    "    :param pool_strides: Stride 2-D Tuple for pool\n",
    "    : return: A tensor that represents convolution and max pooling of x_tensor\n",
    "    \"\"\"\n",
    "    # TODO: Implement Function\n",
    "    # Convolutional layer \n",
    "    filter_size_height = conv_ksize[0]\n",
    "    filter_size_width = conv_ksize[1] \n",
    "    \n",
    "    color_channels = int(x_tensor.get_shape()[3])\n",
    "    k_output = conv_num_outputs \n",
    "    \n",
    "    weight = tf.Variable(tf.truncated_normal([filter_size_height, filter_size_width, color_channels, k_output]))\n",
    "    bias = tf.Variable(tf.zeros(k_output))\n",
    "    \n",
    "    input_height = conv_strides[0]\n",
    "    input_width = conv_strides[1]\n",
    "    \n",
    "    conv_layer = tf.nn.conv2d(x_tensor, weight, strides=[1, input_height, input_width, 1], padding='SAME')\n",
    "    conv_layer = tf.nn.bias_add(conv_layer, bias)\n",
    "    conv_layer = tf.nn.relu(conv_layer)\n",
    "    \n",
    "    #Pooling layer \n",
    "    pool_filter_size_height = pool_ksize[0]\n",
    "    pool_filter_size_width = pool_ksize[1]\n",
    "    pool_stride_height = pool_strides[0]\n",
    "    pool_stride_width = pool_strides[1]\n",
    "    \n",
    "    return tf.nn.max_pool(conv_layer,ksize = [1, pool_filter_size_height, pool_filter_size_width,1],\n",
    "    strides = [1, pool_stride_height, pool_stride_width,1], padding='SAME') \n",
    "\n",
    "\n",
    "\"\"\"\n",
    "DON'T MODIFY ANYTHING IN THIS CELL THAT IS BELOW THIS LINE\n",
    "\"\"\"\n",
    "tests.test_con_pool(conv2d_maxpool)"
   ]
  },
  {
   "cell_type": "code",
   "execution_count": null,
   "metadata": {
    "collapsed": true
   },
   "outputs": [],
   "source": []
  },
  {
   "cell_type": "markdown",
   "metadata": {},
   "source": [
    "### Flatten Layer\n",
    "Implement the `flatten` function to change the dimension of `x_tensor` from a 4-D tensor to a 2-D tensor.  The output should be the shape (*Batch Size*, *Flattened Image Size*). You can use [TensorFlow Layers](https://www.tensorflow.org/api_docs/python/tf/layers) or [TensorFlow Layers (contrib)](https://www.tensorflow.org/api_guides/python/contrib.layers) for this layer."
   ]
  },
  {
   "cell_type": "code",
   "execution_count": 358,
   "metadata": {
    "collapsed": false
   },
   "outputs": [
    {
     "name": "stdout",
     "output_type": "stream",
     "text": [
      "Tests Passed\n"
     ]
    }
   ],
   "source": [
    "def flatten(x_tensor):\n",
    "    \"\"\"\n",
    "    Flatten x_tensor to (Batch Size, Flattened Image Size)\n",
    "    : x_tensor: A tensor of size (Batch Size, ...), where ... are the image dimensions.\n",
    "    : return: A tensor of size (Batch Size, Flattened Image Size).\n",
    "    \"\"\"\n",
    "    # TODO: Implement Function\n",
    "\n",
    "    return  tf.reshape(x_tensor,[-1,np.prod(x_tensor.get_shape()[1:].as_list())])\n",
    "\n",
    "\n",
    "\"\"\"\n",
    "DON'T MODIFY ANYTHING IN THIS CELL THAT IS BELOW THIS LINE\n",
    "\"\"\"\n",
    "tests.test_flatten(flatten)"
   ]
  },
  {
   "cell_type": "markdown",
   "metadata": {},
   "source": [
    "### Fully-Connected Layer\n",
    "Implement the `fully_conn` function to apply a fully connected layer to `x_tensor` with the shape (*Batch Size*, *num_outputs*). You can use [TensorFlow Layers](https://www.tensorflow.org/api_docs/python/tf/layers) or [TensorFlow Layers (contrib)](https://www.tensorflow.org/api_guides/python/contrib.layers) for this layer."
   ]
  },
  {
   "cell_type": "code",
   "execution_count": 329,
   "metadata": {
    "collapsed": false
   },
   "outputs": [
    {
     "name": "stdout",
     "output_type": "stream",
     "text": [
      "Tests Passed\n"
     ]
    }
   ],
   "source": [
    "def fully_conn(x_tensor, num_outputs):\n",
    "    \n",
    "    \"\"\"\n",
    "    Apply a fully connected layer to x_tensor using weight and bias\n",
    "    : x_tensor: A 2-D tensor where the first dimension is batch size.\n",
    "    : num_outputs: The number of output that the new tensor should be.\n",
    "    : return: A 2-D tensor where the second dimension is num_outputs.\n",
    "    \"\"\"\n",
    "     # TODO: Implement Function\n",
    "    \n",
    "    input_features = int(x_tensor.get_shape()[1])\n",
    "    bias = tf.Variable(tf.zeros(num_outputs))\n",
    "    weights = tf.Variable(tf.truncated_normal([input_features,num_outputs],stddev = 0.1))\n",
    "    fc = tf.nn.bias_add(tf.matmul(x_tensor,weights),bias)\n",
    "                      \n",
    "            \n",
    "    return tf.nn.relu(fc) \n",
    "\n",
    "\"\"\"\n",
    "DON'T MODIFY ANYTHING IN THIS CELL THAT IS BELOW THIS LINE\n",
    "\"\"\"\n",
    "tests.test_fully_conn(fully_conn)"
   ]
  },
  {
   "cell_type": "markdown",
   "metadata": {},
   "source": [
    "### Output Layer\n",
    "Implement the `output` function to apply a fully connected layer to `x_tensor` with the shape (*Batch Size*, *num_outputs*). You can use [TensorFlow Layers](https://www.tensorflow.org/api_docs/python/tf/layers) or [TensorFlow Layers (contrib)](https://www.tensorflow.org/api_guides/python/contrib.layers) for this layer.\n",
    "\n",
    "Note: Activation, softmax, or cross entropy shouldn't be applied to this."
   ]
  },
  {
   "cell_type": "code",
   "execution_count": 330,
   "metadata": {
    "collapsed": false
   },
   "outputs": [
    {
     "name": "stdout",
     "output_type": "stream",
     "text": [
      "Tests Passed\n"
     ]
    }
   ],
   "source": [
    "def output(x_tensor, num_outputs):\n",
    "    \"\"\"\n",
    "    Apply a output layer to x_tensor using weight and bias\n",
    "    : x_tensor: A 2-D tensor where the first dimension is batch size.\n",
    "    : num_outputs: The number of output that the new tensor should be.\n",
    "    : return: A 2-D tensor where the second dimension is num_outputs.\n",
    "    \"\"\"\n",
    "    # TODO: Implement Function\n",
    "    \n",
    "    input_features = int(x_tensor.get_shape()[1])\n",
    "    bias = tf.Variable(tf.zeros(num_outputs))\n",
    "    weights = tf.Variable(tf.truncated_normal([input_features,num_outputs],stddev = 0.1))\n",
    "    out = tf.nn.bias_add(tf.matmul(x_tensor,weights),bias)\n",
    "    \n",
    "    \n",
    "    \n",
    "    return out \n",
    "\n",
    "\n",
    "\"\"\"\n",
    "DON'T MODIFY ANYTHING IN THIS CELL THAT IS BELOW THIS LINE\n",
    "\"\"\"\n",
    "tests.test_output(output)"
   ]
  },
  {
   "cell_type": "markdown",
   "metadata": {},
   "source": [
    "### Create Convolutional Model\n",
    "Implement the function `conv_net` to create a convolutional neural network model. The function takes in a batch of images, `x`, and outputs logits.  Use the layers you created above to create this model:\n",
    "\n",
    "* Apply 1, 2, or 3 Convolution and Max Pool layers\n",
    "* Apply a Flatten Layer\n",
    "* Apply 1, 2, or 3 Fully Connected Layers\n",
    "* Apply an Output Layer\n",
    "* Return the output\n",
    "* Apply [TensorFlow's Dropout](https://www.tensorflow.org/api_docs/python/tf/nn/dropout) to one or more layers in the model using `keep_prob`. "
   ]
  },
  {
   "cell_type": "code",
   "execution_count": 342,
   "metadata": {
    "collapsed": false
   },
   "outputs": [
    {
     "name": "stdout",
     "output_type": "stream",
     "text": [
      "Neural Network Built!\n"
     ]
    }
   ],
   "source": [
    "def conv_net(x, keep_prob):\n",
    "    \"\"\"\n",
    "    Create a convolutional neural network model\n",
    "    : x: Placeholder tensor that holds image data.\n",
    "    : keep_prob: Placeholder tensor that hold dropout keep probability.\n",
    "    : return: Tensor that represents logits\n",
    "    \"\"\"\n",
    "    \n",
    "    # TODO: Apply 1, 2, or 3 Convolution and Max Pool layers\n",
    "    #    Play around with different number of outputs, kernel size and stride\n",
    "    # Function Definition from Above:\n",
    "    #    conv2d_maxpool(x_tensor, conv_num_outputs, conv_ksize, conv_strides, pool_ksize, pool_strides)\n",
    "    conv_num_outputs = 32\n",
    "    conv_ksize = (3,3) #conv_ksize 2-d tuple for convolutional filter \n",
    "    conv_strides = (2,2) #conv_strides 2-d Tuple for strides \n",
    "    pool_ksize = (3,3) #pool kernel 2-d Tuple\n",
    "    pool_strides = (2,2) #pool_strides 2-d Tuple \n",
    "    \n",
    "    conv_1 = conv2d_maxpool(x,conv_num_outputs,conv_ksize,conv_strides,pool_ksize,pool_strides)\n",
    "    conv_2 = conv2d_maxpool(conv_1,128,(2,2),(2,2),(3,3),(2,2))\n",
    "    \n",
    "    # TODO: Apply a Flatten Layer\n",
    "    # Function Definition from Above:\n",
    "    #   flatten(x_tensor)\n",
    "    \n",
    "    flat = flatten(conv_1)\n",
    "    \n",
    "    # TODO: Apply 1, 2, or 3 Fully Connected Layers\n",
    "    #    Play around with different number of outputs\n",
    "    # Function Definition from Above:\n",
    "    #   fully_conn(x_tensor, num_outputs)\n",
    "    num_outputs = 128\n",
    "    fc1 = fully_conn(flat,num_outputs)\n",
    "    fc1 = fully_conn(fc1,64)\n",
    "    fc1 = tf.nn.dropout(fc1, keep_prob)\n",
    "    \n",
    "    # TODO: Apply an Output Layer\n",
    "    #    Set this to the number of classes\n",
    "    # Function Definition from Above:\n",
    "    #   output(x_tensor, num_outputs)\n",
    "    \n",
    "    num_classes = 10\n",
    "    out = output(fc1,num_classes)\n",
    "    \n",
    "    # TODO: return output\n",
    "    return out\n",
    "\n",
    "\n",
    "\"\"\"\n",
    "DON'T MODIFY ANYTHING IN THIS CELL THAT IS BELOW THIS LINE\n",
    "\"\"\"\n",
    "\n",
    "##############################\n",
    "## Build the Neural Network ##\n",
    "##############################\n",
    "\n",
    "# Remove previous weights, bias, inputs, etc..\n",
    "tf.reset_default_graph()\n",
    "\n",
    "# Inputs\n",
    "x = neural_net_image_input((32, 32, 3))\n",
    "y = neural_net_label_input(10)\n",
    "keep_prob = neural_net_keep_prob_input()\n",
    "\n",
    "# Model\n",
    "logits = conv_net(x, keep_prob)\n",
    "\n",
    "# Name logits Tensor, so that is can be loaded from disk after training\n",
    "logits = tf.identity(logits, name='logits')\n",
    "\n",
    "# Loss and Optimizer\n",
    "cost = tf.reduce_mean(tf.nn.softmax_cross_entropy_with_logits(logits=logits, labels=y))\n",
    "optimizer = tf.train.AdamOptimizer().minimize(cost)\n",
    "\n",
    "# Accuracy\n",
    "correct_pred = tf.equal(tf.argmax(logits, 1), tf.argmax(y, 1))\n",
    "accuracy = tf.reduce_mean(tf.cast(correct_pred, tf.float32), name='accuracy')\n",
    "\n",
    "tests.test_conv_net(conv_net)"
   ]
  },
  {
   "cell_type": "markdown",
   "metadata": {},
   "source": [
    "## Train the Neural Network\n",
    "### Single Optimization\n",
    "Implement the function `train_neural_network` to do a single optimization.  The optimization should use `optimizer` to optimize in `session` with a `feed_dict` of the following:\n",
    "* `x` for image input\n",
    "* `y` for labels\n",
    "* `keep_prob` for keep probability for dropout\n",
    "\n",
    "This function will be called for each batch, so `tf.global_variables_initializer()` has already been called.\n",
    "\n",
    "Note: Nothing needs to be returned. This function is only optimizing the neural network."
   ]
  },
  {
   "cell_type": "code",
   "execution_count": 343,
   "metadata": {
    "collapsed": false
   },
   "outputs": [
    {
     "name": "stdout",
     "output_type": "stream",
     "text": [
      "Tests Passed\n"
     ]
    }
   ],
   "source": [
    "def train_neural_network(session, optimizer, keep_probability, feature_batch, label_batch):\n",
    "    \"\"\"\n",
    "    Optimize the session on a batch of images and labels\n",
    "    : session: Current TensorFlow session\n",
    "    : optimizer: TensorFlow optimizer function\n",
    "    : keep_probability: keep probability\n",
    "    : feature_batch: Batch of Numpy image data\n",
    "    : label_batch: Batch of Numpy label data\n",
    "    \"\"\"\n",
    "    \n",
    "    # TODO: Implement Function\n",
    "    session.run(optimizer, feed_dict={x: feature_batch,y: label_batch,keep_prob: keep_probability})\n",
    "\n",
    "\n",
    "\n",
    "\"\"\"\n",
    "DON'T MODIFY ANYTHING IN THIS CELL THAT IS BELOW THIS LINE\n",
    "\"\"\"\n",
    "tests.test_train_nn(train_neural_network)"
   ]
  },
  {
   "cell_type": "markdown",
   "metadata": {},
   "source": [
    "### Show Stats\n",
    "Implement the function `print_stats` to print loss and validation accuracy.  Use the global variables `valid_features` and `valid_labels` to calculate validation accuracy.  Use a keep probability of `1.0` to calculate the loss and validation accuracy."
   ]
  },
  {
   "cell_type": "code",
   "execution_count": 344,
   "metadata": {
    "collapsed": false
   },
   "outputs": [],
   "source": [
    "def print_stats(session, feature_batch, label_batch, cost, accuracy):\n",
    "    \"\"\"\n",
    "    Print information about loss and validation accuracy\n",
    "    : session: Current TensorFlow session\n",
    "    : feature_batch: Batch of Numpy image data\n",
    "    : label_batch: Batch of Numpy label data\n",
    "    : cost: TensorFlow cost function\n",
    "    : accuracy: TensorFlow accuracy function\n",
    "    \"\"\"\n",
    "    # TODO: Implement Function\n",
    "    loss = session.run(cost, feed_dict={\n",
    "                x: feature_batch,\n",
    "                y: label_batch,\n",
    "                keep_prob: 1.0})\n",
    "    valid_acc = session.run(accuracy, feed_dict={\n",
    "                x: valid_features,\n",
    "                y: valid_labels,\n",
    "                keep_prob: 1.0})\n",
    "    print('Loss at {}'.format(loss), \n",
    "          'Validation Accuracy at {}'.format(valid_acc))"
   ]
  },
  {
   "cell_type": "markdown",
   "metadata": {},
   "source": [
    "### Hyperparameters\n",
    "Tune the following parameters:\n",
    "* Set `epochs` to the number of iterations until the network stops learning or start overfitting\n",
    "* Set `batch_size` to the highest number that your machine has memory for.  Most people set them to common sizes of memory:\n",
    " * 64\n",
    " * 128\n",
    " * 256\n",
    " * ...\n",
    "* Set `keep_probability` to the probability of keeping a node using dropout"
   ]
  },
  {
   "cell_type": "code",
   "execution_count": 347,
   "metadata": {
    "collapsed": true
   },
   "outputs": [],
   "source": [
    "# TODO: Tune Parameters\n",
    "epochs = 35\n",
    "batch_size = 128\n",
    "keep_probability = 0.75"
   ]
  },
  {
   "cell_type": "markdown",
   "metadata": {},
   "source": [
    "### Train on a Single CIFAR-10 Batch\n",
    "Instead of training the neural network on all the CIFAR-10 batches of data, let's use a single batch. This should save time while you iterate on the model to get a better accuracy.  Once the final validation accuracy is 50% or greater, run the model on all the data in the next section."
   ]
  },
  {
   "cell_type": "code",
   "execution_count": 345,
   "metadata": {
    "collapsed": false
   },
   "outputs": [
    {
     "name": "stdout",
     "output_type": "stream",
     "text": [
      "Checking the Training on a Single Batch...\n",
      "Epoch  1, CIFAR-10 Batch 1:  Loss at 2.132896900177002 Validation Accuracy at 0.323199987411499\n",
      "Epoch  2, CIFAR-10 Batch 1:  Loss at 1.9685643911361694 Validation Accuracy at 0.3653999865055084\n",
      "Epoch  3, CIFAR-10 Batch 1:  Loss at 1.8157837390899658 Validation Accuracy at 0.4205999970436096\n",
      "Epoch  4, CIFAR-10 Batch 1:  Loss at 1.6874879598617554 Validation Accuracy at 0.42820000648498535\n",
      "Epoch  5, CIFAR-10 Batch 1:  Loss at 1.536668062210083 Validation Accuracy at 0.4607999920845032\n",
      "Epoch  6, CIFAR-10 Batch 1:  Loss at 1.4309800863265991 Validation Accuracy at 0.4562000036239624\n",
      "Epoch  7, CIFAR-10 Batch 1:  Loss at 1.2616612911224365 Validation Accuracy at 0.4896000027656555\n",
      "Epoch  8, CIFAR-10 Batch 1:  Loss at 1.2019306421279907 Validation Accuracy at 0.4970000088214874\n",
      "Epoch  9, CIFAR-10 Batch 1:  Loss at 1.1400703191757202 Validation Accuracy at 0.5027999877929688\n",
      "Epoch 10, CIFAR-10 Batch 1:  Loss at 1.0290932655334473 Validation Accuracy at 0.5180000066757202\n",
      "Epoch 11, CIFAR-10 Batch 1:  Loss at 0.9832977056503296 Validation Accuracy at 0.520799994468689\n",
      "Epoch 12, CIFAR-10 Batch 1:  Loss at 0.9188486337661743 Validation Accuracy at 0.5299999713897705\n",
      "Epoch 13, CIFAR-10 Batch 1:  Loss at 0.8668340444564819 Validation Accuracy at 0.5216000080108643\n",
      "Epoch 14, CIFAR-10 Batch 1:  Loss at 0.8103130459785461 Validation Accuracy at 0.5281999707221985\n",
      "Epoch 15, CIFAR-10 Batch 1:  Loss at 0.7944420576095581 Validation Accuracy at 0.5368000268936157\n",
      "Epoch 16, CIFAR-10 Batch 1:  Loss at 0.7357605695724487 Validation Accuracy at 0.5335999727249146\n",
      "Epoch 17, CIFAR-10 Batch 1:  Loss at 0.7020593881607056 Validation Accuracy at 0.5436000227928162\n",
      "Epoch 18, CIFAR-10 Batch 1:  Loss at 0.6523458957672119 Validation Accuracy at 0.5404000282287598\n",
      "Epoch 19, CIFAR-10 Batch 1:  Loss at 0.6324056386947632 Validation Accuracy at 0.5455999970436096\n",
      "Epoch 20, CIFAR-10 Batch 1:  Loss at 0.5821072459220886 Validation Accuracy at 0.52920001745224\n",
      "Epoch 21, CIFAR-10 Batch 1:  Loss at 0.5425344705581665 Validation Accuracy at 0.5284000039100647\n",
      "Epoch 22, CIFAR-10 Batch 1:  Loss at 0.5063186287879944 Validation Accuracy at 0.5342000126838684\n",
      "Epoch 23, CIFAR-10 Batch 1:  Loss at 0.4942324757575989 Validation Accuracy at 0.5238000154495239\n",
      "Epoch 24, CIFAR-10 Batch 1:  Loss at 0.5157865285873413 Validation Accuracy at 0.5228000283241272\n",
      "Epoch 25, CIFAR-10 Batch 1:  Loss at 0.4420660436153412 Validation Accuracy at 0.5266000032424927\n",
      "Epoch 26, CIFAR-10 Batch 1:  Loss at 0.43339863419532776 Validation Accuracy at 0.5414000153541565\n",
      "Epoch 27, CIFAR-10 Batch 1:  Loss at 0.4471066892147064 Validation Accuracy at 0.5350000262260437\n",
      "Epoch 28, CIFAR-10 Batch 1:  Loss at 0.39299970865249634 Validation Accuracy at 0.5490000247955322\n",
      "Epoch 29, CIFAR-10 Batch 1:  Loss at 0.3523551821708679 Validation Accuracy at 0.555400013923645\n",
      "Epoch 30, CIFAR-10 Batch 1:  Loss at 0.33015716075897217 Validation Accuracy at 0.5577999949455261\n",
      "Epoch 31, CIFAR-10 Batch 1:  Loss at 0.2842310965061188 Validation Accuracy at 0.5537999868392944\n",
      "Epoch 32, CIFAR-10 Batch 1:  Loss at 0.260362446308136 Validation Accuracy at 0.5443999767303467\n",
      "Epoch 33, CIFAR-10 Batch 1:  Loss at 0.2619473934173584 Validation Accuracy at 0.5406000018119812\n",
      "Epoch 34, CIFAR-10 Batch 1:  Loss at 0.24818673729896545 Validation Accuracy at 0.5378000140190125\n",
      "Epoch 35, CIFAR-10 Batch 1:  Loss at 0.23576107621192932 Validation Accuracy at 0.5407999753952026\n",
      "Epoch 36, CIFAR-10 Batch 1:  Loss at 0.1864287406206131 Validation Accuracy at 0.5428000092506409\n",
      "Epoch 37, CIFAR-10 Batch 1:  Loss at 0.1836610734462738 Validation Accuracy at 0.5491999983787537\n",
      "Epoch 38, CIFAR-10 Batch 1:  Loss at 0.18159356713294983 Validation Accuracy at 0.5546000003814697\n",
      "Epoch 39, CIFAR-10 Batch 1:  Loss at 0.1846407949924469 Validation Accuracy at 0.5440000295639038\n",
      "Epoch 40, CIFAR-10 Batch 1:  Loss at 0.17434653639793396 Validation Accuracy at 0.5400000214576721\n",
      "Epoch 41, CIFAR-10 Batch 1:  Loss at 0.15745213627815247 Validation Accuracy at 0.54339998960495\n",
      "Epoch 42, CIFAR-10 Batch 1:  Loss at 0.1516130417585373 Validation Accuracy at 0.54339998960495\n",
      "Epoch 43, CIFAR-10 Batch 1:  Loss at 0.1383630931377411 Validation Accuracy at 0.5455999970436096\n",
      "Epoch 44, CIFAR-10 Batch 1:  Loss at 0.12942548096179962 Validation Accuracy at 0.5428000092506409\n",
      "Epoch 45, CIFAR-10 Batch 1:  Loss at 0.10395538806915283 Validation Accuracy at 0.5418000221252441\n",
      "Epoch 46, CIFAR-10 Batch 1:  Loss at 0.10444645583629608 Validation Accuracy at 0.5432000160217285\n",
      "Epoch 47, CIFAR-10 Batch 1:  Loss at 0.10298559814691544 Validation Accuracy at 0.5228000283241272\n",
      "Epoch 48, CIFAR-10 Batch 1:  Loss at 0.08350733667612076 Validation Accuracy at 0.5338000059127808\n",
      "Epoch 49, CIFAR-10 Batch 1:  Loss at 0.08762858808040619 Validation Accuracy at 0.5224000215530396\n",
      "Epoch 50, CIFAR-10 Batch 1:  Loss at 0.08146703243255615 Validation Accuracy at 0.5324000120162964\n",
      "Epoch 51, CIFAR-10 Batch 1:  Loss at 0.09771190583705902 Validation Accuracy at 0.5189999938011169\n",
      "Epoch 52, CIFAR-10 Batch 1:  Loss at 0.09030301868915558 Validation Accuracy at 0.5090000033378601\n",
      "Epoch 53, CIFAR-10 Batch 1:  Loss at 0.08039674907922745 Validation Accuracy at 0.5275999903678894\n",
      "Epoch 54, CIFAR-10 Batch 1:  Loss at 0.0752728208899498 Validation Accuracy at 0.5321999788284302\n",
      "Epoch 55, CIFAR-10 Batch 1:  Loss at 0.06497516483068466 Validation Accuracy at 0.5270000100135803\n",
      "Epoch 56, CIFAR-10 Batch 1:  Loss at 0.06308138370513916 Validation Accuracy at 0.5347999930381775\n",
      "Epoch 57, CIFAR-10 Batch 1:  Loss at 0.05884278938174248 Validation Accuracy at 0.5315999984741211\n",
      "Epoch 58, CIFAR-10 Batch 1:  Loss at 0.06422434002161026 Validation Accuracy at 0.5171999931335449\n",
      "Epoch 59, CIFAR-10 Batch 1:  Loss at 0.07024488598108292 Validation Accuracy at 0.5239999890327454\n",
      "Epoch 60, CIFAR-10 Batch 1:  Loss at 0.059571731835603714 Validation Accuracy at 0.5242000222206116\n",
      "Epoch 61, CIFAR-10 Batch 1:  Loss at 0.05549070984125137 Validation Accuracy at 0.5321999788284302\n",
      "Epoch 62, CIFAR-10 Batch 1:  Loss at 0.049985043704509735 Validation Accuracy at 0.5212000012397766\n",
      "Epoch 63, CIFAR-10 Batch 1:  Loss at 0.054674725979566574 Validation Accuracy at 0.5314000248908997\n",
      "Epoch 64, CIFAR-10 Batch 1:  Loss at 0.0466865673661232 Validation Accuracy at 0.5429999828338623\n",
      "Epoch 65, CIFAR-10 Batch 1:  Loss at 0.04218226298689842 Validation Accuracy at 0.5325999855995178\n",
      "Epoch 66, CIFAR-10 Batch 1:  Loss at 0.03225841000676155 Validation Accuracy at 0.5490000247955322\n",
      "Epoch 67, CIFAR-10 Batch 1:  Loss at 0.031229490414261818 Validation Accuracy at 0.5382000207901001\n",
      "Epoch 68, CIFAR-10 Batch 1:  Loss at 0.022839656099677086 Validation Accuracy at 0.5415999889373779\n",
      "Epoch 69, CIFAR-10 Batch 1:  Loss at 0.022634606808423996 Validation Accuracy at 0.52920001745224\n",
      "Epoch 70, CIFAR-10 Batch 1:  Loss at 0.026199594140052795 Validation Accuracy at 0.5437999963760376\n",
      "Epoch 71, CIFAR-10 Batch 1:  Loss at 0.024663681164383888 Validation Accuracy at 0.5418000221252441\n",
      "Epoch 72, CIFAR-10 Batch 1:  Loss at 0.018790852278470993 Validation Accuracy at 0.5428000092506409\n",
      "Epoch 73, CIFAR-10 Batch 1:  Loss at 0.019801896065473557 Validation Accuracy at 0.5386000275611877\n",
      "Epoch 74, CIFAR-10 Batch 1:  Loss at 0.01721932366490364 Validation Accuracy at 0.5396000146865845\n",
      "Epoch 75, CIFAR-10 Batch 1:  Loss at 0.018461018800735474 Validation Accuracy at 0.5361999869346619\n",
      "Epoch 76, CIFAR-10 Batch 1:  Loss at 0.02189975045621395 Validation Accuracy at 0.5289999842643738\n",
      "Epoch 77, CIFAR-10 Batch 1:  Loss at 0.017347950488328934 Validation Accuracy at 0.5321999788284302\n",
      "Epoch 78, CIFAR-10 Batch 1:  Loss at 0.014675803482532501 Validation Accuracy at 0.5299999713897705\n",
      "Epoch 79, CIFAR-10 Batch 1:  Loss at 0.013745276257395744 Validation Accuracy at 0.5382000207901001\n",
      "Epoch 80, CIFAR-10 Batch 1:  Loss at 0.017917029559612274 Validation Accuracy at 0.5289999842643738\n",
      "Epoch 81, CIFAR-10 Batch 1:  Loss at 0.014235815033316612 Validation Accuracy at 0.5297999978065491\n",
      "Epoch 82, CIFAR-10 Batch 1:  Loss at 0.013272342272102833 Validation Accuracy at 0.5353999733924866\n",
      "Epoch 83, CIFAR-10 Batch 1:  Loss at 0.011070349253714085 Validation Accuracy at 0.5314000248908997\n",
      "Epoch 84, CIFAR-10 Batch 1:  Loss at 0.019165625795722008 Validation Accuracy at 0.5338000059127808\n",
      "Epoch 85, CIFAR-10 Batch 1:  Loss at 0.011445170268416405 Validation Accuracy at 0.5397999882698059\n",
      "Epoch 86, CIFAR-10 Batch 1:  Loss at 0.007720029912889004 Validation Accuracy at 0.5338000059127808\n",
      "Epoch 87, CIFAR-10 Batch 1:  Loss at 0.017553746700286865 Validation Accuracy at 0.5248000025749207\n",
      "Epoch 88, CIFAR-10 Batch 1:  Loss at 0.013630852103233337 Validation Accuracy at 0.5224000215530396\n",
      "Epoch 89, CIFAR-10 Batch 1:  Loss at 0.010972663760185242 Validation Accuracy at 0.5199999809265137\n",
      "Epoch 90, CIFAR-10 Batch 1:  Loss at 0.007720095571130514 Validation Accuracy at 0.5189999938011169\n",
      "Epoch 91, CIFAR-10 Batch 1:  Loss at 0.010522624477744102 Validation Accuracy at 0.5257999897003174\n",
      "Epoch 92, CIFAR-10 Batch 1:  Loss at 0.009049713611602783 Validation Accuracy at 0.5297999978065491\n",
      "Epoch 93, CIFAR-10 Batch 1:  Loss at 0.012811420485377312 Validation Accuracy at 0.5194000005722046\n",
      "Epoch 94, CIFAR-10 Batch 1:  Loss at 0.011041129939258099 Validation Accuracy at 0.521399974822998\n",
      "Epoch 95, CIFAR-10 Batch 1:  Loss at 0.009161636233329773 Validation Accuracy at 0.5317999720573425\n",
      "Epoch 96, CIFAR-10 Batch 1:  Loss at 0.008347740396857262 Validation Accuracy at 0.5289999842643738\n",
      "Epoch 97, CIFAR-10 Batch 1:  Loss at 0.010378820821642876 Validation Accuracy at 0.5220000147819519\n",
      "Epoch 98, CIFAR-10 Batch 1:  Loss at 0.01365380547940731 Validation Accuracy at 0.5231999754905701\n",
      "Epoch 99, CIFAR-10 Batch 1:  Loss at 0.005877804011106491 Validation Accuracy at 0.5288000106811523\n",
      "Epoch 100, CIFAR-10 Batch 1:  Loss at 0.0045539624989032745 Validation Accuracy at 0.5185999870300293\n"
     ]
    }
   ],
   "source": [
    "\"\"\"\n",
    "DON'T MODIFY ANYTHING IN THIS CELL\n",
    "\"\"\"\n",
    "print('Checking the Training on a Single Batch...')\n",
    "with tf.Session() as sess:\n",
    "    # Initializing the variables\n",
    "    sess.run(tf.global_variables_initializer())\n",
    "    \n",
    "    # Training cycle\n",
    "    for epoch in range(epochs):\n",
    "        batch_i = 1\n",
    "        for batch_features, batch_labels in helper.load_preprocess_training_batch(batch_i, batch_size):\n",
    "            train_neural_network(sess, optimizer, keep_probability, batch_features, batch_labels)\n",
    "        print('Epoch {:>2}, CIFAR-10 Batch {}:  '.format(epoch + 1, batch_i), end='')\n",
    "        print_stats(sess, batch_features, batch_labels, cost, accuracy)"
   ]
  },
  {
   "cell_type": "markdown",
   "metadata": {},
   "source": [
    "### Fully Train the Model\n",
    "Now that you got a good accuracy with a single CIFAR-10 batch, try it with all five batches."
   ]
  },
  {
   "cell_type": "code",
   "execution_count": 348,
   "metadata": {
    "collapsed": false
   },
   "outputs": [
    {
     "name": "stdout",
     "output_type": "stream",
     "text": [
      "Training...\n",
      "Epoch  1, CIFAR-10 Batch 1:  Loss at 2.0616557598114014 Validation Accuracy at 0.3059999942779541\n",
      "Epoch  1, CIFAR-10 Batch 2:  Loss at 1.8128612041473389 Validation Accuracy at 0.350600004196167\n",
      "Epoch  1, CIFAR-10 Batch 3:  Loss at 1.5038822889328003 Validation Accuracy at 0.412200003862381\n",
      "Epoch  1, CIFAR-10 Batch 4:  Loss at 1.6095688343048096 Validation Accuracy at 0.4318000078201294\n",
      "Epoch  1, CIFAR-10 Batch 5:  Loss at 1.5723899602890015 Validation Accuracy at 0.448199987411499\n",
      "Epoch  2, CIFAR-10 Batch 1:  Loss at 1.6801220178604126 Validation Accuracy at 0.47620001435279846\n",
      "Epoch  2, CIFAR-10 Batch 2:  Loss at 1.412835717201233 Validation Accuracy at 0.48579999804496765\n",
      "Epoch  2, CIFAR-10 Batch 3:  Loss at 1.1100261211395264 Validation Accuracy at 0.48739999532699585\n",
      "Epoch  2, CIFAR-10 Batch 4:  Loss at 1.4728901386260986 Validation Accuracy at 0.5063999891281128\n",
      "Epoch  2, CIFAR-10 Batch 5:  Loss at 1.3953204154968262 Validation Accuracy at 0.48179998993873596\n",
      "Epoch  3, CIFAR-10 Batch 1:  Loss at 1.491568684577942 Validation Accuracy at 0.5073999762535095\n",
      "Epoch  3, CIFAR-10 Batch 2:  Loss at 1.1852487325668335 Validation Accuracy at 0.5206000208854675\n",
      "Epoch  3, CIFAR-10 Batch 3:  Loss at 0.9411985278129578 Validation Accuracy at 0.5221999883651733\n",
      "Epoch  3, CIFAR-10 Batch 4:  Loss at 1.3566477298736572 Validation Accuracy at 0.5303999781608582\n",
      "Epoch  3, CIFAR-10 Batch 5:  Loss at 1.272021770477295 Validation Accuracy at 0.519599974155426\n",
      "Epoch  4, CIFAR-10 Batch 1:  Loss at 1.3015260696411133 Validation Accuracy at 0.5414000153541565\n",
      "Epoch  4, CIFAR-10 Batch 2:  Loss at 1.087548851966858 Validation Accuracy at 0.5446000099182129\n",
      "Epoch  4, CIFAR-10 Batch 3:  Loss at 0.9006807208061218 Validation Accuracy at 0.5329999923706055\n",
      "Epoch  4, CIFAR-10 Batch 4:  Loss at 1.1937062740325928 Validation Accuracy at 0.555400013923645\n",
      "Epoch  4, CIFAR-10 Batch 5:  Loss at 1.1397576332092285 Validation Accuracy at 0.5504000186920166\n",
      "Epoch  5, CIFAR-10 Batch 1:  Loss at 1.2284526824951172 Validation Accuracy at 0.5676000118255615\n",
      "Epoch  5, CIFAR-10 Batch 2:  Loss at 0.9775931239128113 Validation Accuracy at 0.5645999908447266\n",
      "Epoch  5, CIFAR-10 Batch 3:  Loss at 0.7501034140586853 Validation Accuracy at 0.5522000193595886\n",
      "Epoch  5, CIFAR-10 Batch 4:  Loss at 1.1497738361358643 Validation Accuracy at 0.5623999834060669\n",
      "Epoch  5, CIFAR-10 Batch 5:  Loss at 1.0812782049179077 Validation Accuracy at 0.5590000152587891\n",
      "Epoch  6, CIFAR-10 Batch 1:  Loss at 1.128438949584961 Validation Accuracy at 0.579800009727478\n",
      "Epoch  6, CIFAR-10 Batch 2:  Loss at 0.8621085286140442 Validation Accuracy at 0.5857999920845032\n",
      "Epoch  6, CIFAR-10 Batch 3:  Loss at 0.7212312817573547 Validation Accuracy at 0.5795999765396118\n",
      "Epoch  6, CIFAR-10 Batch 4:  Loss at 1.1119617223739624 Validation Accuracy at 0.5777999758720398\n",
      "Epoch  6, CIFAR-10 Batch 5:  Loss at 0.9871028661727905 Validation Accuracy at 0.5802000164985657\n",
      "Epoch  7, CIFAR-10 Batch 1:  Loss at 1.0263521671295166 Validation Accuracy at 0.5916000008583069\n",
      "Epoch  7, CIFAR-10 Batch 2:  Loss at 0.8468860387802124 Validation Accuracy at 0.5794000029563904\n",
      "Epoch  7, CIFAR-10 Batch 3:  Loss at 0.7166410684585571 Validation Accuracy at 0.5752000212669373\n",
      "Epoch  7, CIFAR-10 Batch 4:  Loss at 1.0913852453231812 Validation Accuracy at 0.5867999792098999\n",
      "Epoch  7, CIFAR-10 Batch 5:  Loss at 0.9094671010971069 Validation Accuracy at 0.5861999988555908\n",
      "Epoch  8, CIFAR-10 Batch 1:  Loss at 1.0193787813186646 Validation Accuracy at 0.5852000117301941\n",
      "Epoch  8, CIFAR-10 Batch 2:  Loss at 0.8004517555236816 Validation Accuracy at 0.5960000157356262\n",
      "Epoch  8, CIFAR-10 Batch 3:  Loss at 0.647720456123352 Validation Accuracy at 0.590399980545044\n",
      "Epoch  8, CIFAR-10 Batch 4:  Loss at 0.9993297457695007 Validation Accuracy at 0.5989999771118164\n",
      "Epoch  8, CIFAR-10 Batch 5:  Loss at 0.8392412066459656 Validation Accuracy at 0.5934000015258789\n",
      "Epoch  9, CIFAR-10 Batch 1:  Loss at 0.9436712265014648 Validation Accuracy at 0.5960000157356262\n",
      "Epoch  9, CIFAR-10 Batch 2:  Loss at 0.7260762453079224 Validation Accuracy at 0.5982000231742859\n",
      "Epoch  9, CIFAR-10 Batch 3:  Loss at 0.6068490147590637 Validation Accuracy at 0.5848000049591064\n",
      "Epoch  9, CIFAR-10 Batch 4:  Loss at 0.9459625482559204 Validation Accuracy at 0.6039999723434448\n",
      "Epoch  9, CIFAR-10 Batch 5:  Loss at 0.738705039024353 Validation Accuracy at 0.6061999797821045\n",
      "Epoch 10, CIFAR-10 Batch 1:  Loss at 0.8971568942070007 Validation Accuracy at 0.6015999913215637\n",
      "Epoch 10, CIFAR-10 Batch 2:  Loss at 0.6868532299995422 Validation Accuracy at 0.5946000218391418\n",
      "Epoch 10, CIFAR-10 Batch 3:  Loss at 0.543581485748291 Validation Accuracy at 0.6068000197410583\n",
      "Epoch 10, CIFAR-10 Batch 4:  Loss at 0.8893340229988098 Validation Accuracy at 0.597000002861023\n",
      "Epoch 10, CIFAR-10 Batch 5:  Loss at 0.6830207109451294 Validation Accuracy at 0.6074000000953674\n",
      "Epoch 11, CIFAR-10 Batch 1:  Loss at 0.8359788656234741 Validation Accuracy at 0.6028000116348267\n",
      "Epoch 11, CIFAR-10 Batch 2:  Loss at 0.6451884508132935 Validation Accuracy at 0.598800003528595\n",
      "Epoch 11, CIFAR-10 Batch 3:  Loss at 0.4916531443595886 Validation Accuracy at 0.6172000169754028\n",
      "Epoch 11, CIFAR-10 Batch 4:  Loss at 0.8442941904067993 Validation Accuracy at 0.6129999756813049\n",
      "Epoch 11, CIFAR-10 Batch 5:  Loss at 0.65767902135849 Validation Accuracy at 0.6118000149726868\n",
      "Epoch 12, CIFAR-10 Batch 1:  Loss at 0.8048469424247742 Validation Accuracy at 0.607200026512146\n",
      "Epoch 12, CIFAR-10 Batch 2:  Loss at 0.5665555596351624 Validation Accuracy at 0.6110000014305115\n",
      "Epoch 12, CIFAR-10 Batch 3:  Loss at 0.4821905195713043 Validation Accuracy at 0.6087999939918518\n",
      "Epoch 12, CIFAR-10 Batch 4:  Loss at 0.7846468091011047 Validation Accuracy at 0.6179999709129333\n",
      "Epoch 12, CIFAR-10 Batch 5:  Loss at 0.6194890141487122 Validation Accuracy at 0.6019999980926514\n",
      "Epoch 13, CIFAR-10 Batch 1:  Loss at 0.7892370820045471 Validation Accuracy at 0.6104000210762024\n",
      "Epoch 13, CIFAR-10 Batch 2:  Loss at 0.5539353489875793 Validation Accuracy at 0.6055999994277954\n",
      "Epoch 13, CIFAR-10 Batch 3:  Loss at 0.4183402955532074 Validation Accuracy at 0.6263999938964844\n",
      "Epoch 13, CIFAR-10 Batch 4:  Loss at 0.7659255862236023 Validation Accuracy at 0.6173999905586243\n",
      "Epoch 13, CIFAR-10 Batch 5:  Loss at 0.5439561009407043 Validation Accuracy at 0.6132000088691711\n",
      "Epoch 14, CIFAR-10 Batch 1:  Loss at 0.7428140640258789 Validation Accuracy at 0.6097999811172485\n",
      "Epoch 14, CIFAR-10 Batch 2:  Loss at 0.5246685147285461 Validation Accuracy at 0.6111999750137329\n",
      "Epoch 14, CIFAR-10 Batch 3:  Loss at 0.3917301893234253 Validation Accuracy at 0.6222000122070312\n",
      "Epoch 14, CIFAR-10 Batch 4:  Loss at 0.7105361819267273 Validation Accuracy at 0.6205999851226807\n",
      "Epoch 14, CIFAR-10 Batch 5:  Loss at 0.5378851890563965 Validation Accuracy at 0.6172000169754028\n",
      "Epoch 15, CIFAR-10 Batch 1:  Loss at 0.691883385181427 Validation Accuracy at 0.6262000203132629\n",
      "Epoch 15, CIFAR-10 Batch 2:  Loss at 0.48142632842063904 Validation Accuracy at 0.6146000027656555\n",
      "Epoch 15, CIFAR-10 Batch 3:  Loss at 0.37977227568626404 Validation Accuracy at 0.6240000128746033\n",
      "Epoch 15, CIFAR-10 Batch 4:  Loss at 0.6958450078964233 Validation Accuracy at 0.6227999925613403\n",
      "Epoch 15, CIFAR-10 Batch 5:  Loss at 0.5370057225227356 Validation Accuracy at 0.6197999715805054\n",
      "Epoch 16, CIFAR-10 Batch 1:  Loss at 0.6570731401443481 Validation Accuracy at 0.620199978351593\n",
      "Epoch 16, CIFAR-10 Batch 2:  Loss at 0.4370454251766205 Validation Accuracy at 0.6111999750137329\n",
      "Epoch 16, CIFAR-10 Batch 3:  Loss at 0.332795113325119 Validation Accuracy at 0.6227999925613403\n",
      "Epoch 16, CIFAR-10 Batch 4:  Loss at 0.6731061339378357 Validation Accuracy at 0.6205999851226807\n",
      "Epoch 16, CIFAR-10 Batch 5:  Loss at 0.5128868818283081 Validation Accuracy at 0.6144000291824341\n",
      "Epoch 17, CIFAR-10 Batch 1:  Loss at 0.6407729387283325 Validation Accuracy at 0.6173999905586243\n",
      "Epoch 17, CIFAR-10 Batch 2:  Loss at 0.44678816199302673 Validation Accuracy at 0.6144000291824341\n",
      "Epoch 17, CIFAR-10 Batch 3:  Loss at 0.3186888098716736 Validation Accuracy at 0.6240000128746033\n",
      "Epoch 17, CIFAR-10 Batch 4:  Loss at 0.6189644932746887 Validation Accuracy at 0.623199999332428\n",
      "Epoch 17, CIFAR-10 Batch 5:  Loss at 0.5060027837753296 Validation Accuracy at 0.6212000250816345\n",
      "Epoch 18, CIFAR-10 Batch 1:  Loss at 0.6095611453056335 Validation Accuracy at 0.6226000189781189\n",
      "Epoch 18, CIFAR-10 Batch 2:  Loss at 0.3966999650001526 Validation Accuracy at 0.6241999864578247\n",
      "Epoch 18, CIFAR-10 Batch 3:  Loss at 0.31518203020095825 Validation Accuracy at 0.6236000061035156\n",
      "Epoch 18, CIFAR-10 Batch 4:  Loss at 0.5917626619338989 Validation Accuracy at 0.6302000284194946\n",
      "Epoch 18, CIFAR-10 Batch 5:  Loss at 0.46837788820266724 Validation Accuracy at 0.6240000128746033\n",
      "Epoch 19, CIFAR-10 Batch 1:  Loss at 0.6001441478729248 Validation Accuracy at 0.628600001335144\n",
      "Epoch 19, CIFAR-10 Batch 2:  Loss at 0.3579491674900055 Validation Accuracy at 0.614799976348877\n",
      "Epoch 19, CIFAR-10 Batch 3:  Loss at 0.3019479811191559 Validation Accuracy at 0.6241999864578247\n",
      "Epoch 19, CIFAR-10 Batch 4:  Loss at 0.5038008689880371 Validation Accuracy at 0.6255999803543091\n",
      "Epoch 19, CIFAR-10 Batch 5:  Loss at 0.42979907989501953 Validation Accuracy at 0.6272000074386597\n",
      "Epoch 20, CIFAR-10 Batch 1:  Loss at 0.5650240778923035 Validation Accuracy at 0.6295999884605408\n",
      "Epoch 20, CIFAR-10 Batch 2:  Loss at 0.34240132570266724 Validation Accuracy at 0.6155999898910522\n",
      "Epoch 20, CIFAR-10 Batch 3:  Loss at 0.26613688468933105 Validation Accuracy at 0.620199978351593\n",
      "Epoch 20, CIFAR-10 Batch 4:  Loss at 0.5046924352645874 Validation Accuracy at 0.6218000054359436\n",
      "Epoch 20, CIFAR-10 Batch 5:  Loss at 0.4065878987312317 Validation Accuracy at 0.6255999803543091\n",
      "Epoch 21, CIFAR-10 Batch 1:  Loss at 0.5377203226089478 Validation Accuracy at 0.6245999932289124\n",
      "Epoch 21, CIFAR-10 Batch 2:  Loss at 0.3247952163219452 Validation Accuracy at 0.6209999918937683\n",
      "Epoch 21, CIFAR-10 Batch 3:  Loss at 0.2622089385986328 Validation Accuracy at 0.618399977684021\n",
      "Epoch 21, CIFAR-10 Batch 4:  Loss at 0.4836912751197815 Validation Accuracy at 0.6259999871253967\n",
      "Epoch 21, CIFAR-10 Batch 5:  Loss at 0.38938039541244507 Validation Accuracy at 0.6255999803543091\n",
      "Epoch 22, CIFAR-10 Batch 1:  Loss at 0.4874699115753174 Validation Accuracy at 0.6320000290870667\n",
      "Epoch 22, CIFAR-10 Batch 2:  Loss at 0.3110535442829132 Validation Accuracy at 0.6182000041007996\n",
      "Epoch 22, CIFAR-10 Batch 3:  Loss at 0.24763381481170654 Validation Accuracy at 0.6205999851226807\n",
      "Epoch 22, CIFAR-10 Batch 4:  Loss at 0.46344274282455444 Validation Accuracy at 0.6241999864578247\n",
      "Epoch 22, CIFAR-10 Batch 5:  Loss at 0.3612496852874756 Validation Accuracy at 0.626800000667572\n",
      "Epoch 23, CIFAR-10 Batch 1:  Loss at 0.486331045627594 Validation Accuracy at 0.631600022315979\n",
      "Epoch 23, CIFAR-10 Batch 2:  Loss at 0.2857261896133423 Validation Accuracy at 0.6161999702453613\n",
      "Epoch 23, CIFAR-10 Batch 3:  Loss at 0.21511876583099365 Validation Accuracy at 0.6258000135421753\n",
      "Epoch 23, CIFAR-10 Batch 4:  Loss at 0.4455437660217285 Validation Accuracy at 0.6254000067710876\n",
      "Epoch 23, CIFAR-10 Batch 5:  Loss at 0.3676871657371521 Validation Accuracy at 0.6269999742507935\n",
      "Epoch 24, CIFAR-10 Batch 1:  Loss at 0.47062960267066956 Validation Accuracy at 0.6168000102043152\n",
      "Epoch 24, CIFAR-10 Batch 2:  Loss at 0.26316529512405396 Validation Accuracy at 0.6240000128746033\n",
      "Epoch 24, CIFAR-10 Batch 3:  Loss at 0.20694231986999512 Validation Accuracy at 0.6227999925613403\n",
      "Epoch 24, CIFAR-10 Batch 4:  Loss at 0.40042614936828613 Validation Accuracy at 0.621399998664856\n",
      "Epoch 24, CIFAR-10 Batch 5:  Loss at 0.3210756778717041 Validation Accuracy at 0.6273999810218811\n",
      "Epoch 25, CIFAR-10 Batch 1:  Loss at 0.42847052216529846 Validation Accuracy at 0.6154000163078308\n",
      "Epoch 25, CIFAR-10 Batch 2:  Loss at 0.2306412011384964 Validation Accuracy at 0.6237999796867371\n",
      "Epoch 25, CIFAR-10 Batch 3:  Loss at 0.1936301440000534 Validation Accuracy at 0.6218000054359436\n",
      "Epoch 25, CIFAR-10 Batch 4:  Loss at 0.34269967675209045 Validation Accuracy at 0.6313999891281128\n",
      "Epoch 25, CIFAR-10 Batch 5:  Loss at 0.28860703110694885 Validation Accuracy at 0.6290000081062317\n",
      "Epoch 26, CIFAR-10 Batch 1:  Loss at 0.41721510887145996 Validation Accuracy at 0.6291999816894531\n",
      "Epoch 26, CIFAR-10 Batch 2:  Loss at 0.2472410649061203 Validation Accuracy at 0.6244000196456909\n",
      "Epoch 26, CIFAR-10 Batch 3:  Loss at 0.16486217081546783 Validation Accuracy at 0.6254000067710876\n",
      "Epoch 26, CIFAR-10 Batch 4:  Loss at 0.35982900857925415 Validation Accuracy at 0.6244000196456909\n",
      "Epoch 26, CIFAR-10 Batch 5:  Loss at 0.2723253071308136 Validation Accuracy at 0.6317999958992004\n",
      "Epoch 27, CIFAR-10 Batch 1:  Loss at 0.40740853548049927 Validation Accuracy at 0.6186000108718872\n",
      "Epoch 27, CIFAR-10 Batch 2:  Loss at 0.2499144971370697 Validation Accuracy at 0.6262000203132629\n",
      "Epoch 27, CIFAR-10 Batch 3:  Loss at 0.17931026220321655 Validation Accuracy at 0.618399977684021\n",
      "Epoch 27, CIFAR-10 Batch 4:  Loss at 0.34692785143852234 Validation Accuracy at 0.6222000122070312\n",
      "Epoch 27, CIFAR-10 Batch 5:  Loss at 0.3290552496910095 Validation Accuracy at 0.6273999810218811\n",
      "Epoch 28, CIFAR-10 Batch 1:  Loss at 0.39769452810287476 Validation Accuracy at 0.6212000250816345\n",
      "Epoch 28, CIFAR-10 Batch 2:  Loss at 0.2158431112766266 Validation Accuracy at 0.6313999891281128\n",
      "Epoch 28, CIFAR-10 Batch 3:  Loss at 0.15012288093566895 Validation Accuracy at 0.623199999332428\n",
      "Epoch 28, CIFAR-10 Batch 4:  Loss at 0.31607770919799805 Validation Accuracy at 0.6262000203132629\n",
      "Epoch 28, CIFAR-10 Batch 5:  Loss at 0.29375842213630676 Validation Accuracy at 0.6284000277519226\n",
      "Epoch 29, CIFAR-10 Batch 1:  Loss at 0.40279722213745117 Validation Accuracy at 0.6164000034332275\n",
      "Epoch 29, CIFAR-10 Batch 2:  Loss at 0.23342743515968323 Validation Accuracy at 0.6263999938964844\n",
      "Epoch 29, CIFAR-10 Batch 3:  Loss at 0.14515604078769684 Validation Accuracy at 0.6164000034332275\n",
      "Epoch 29, CIFAR-10 Batch 4:  Loss at 0.330206960439682 Validation Accuracy at 0.621999979019165\n",
      "Epoch 29, CIFAR-10 Batch 5:  Loss at 0.2738415598869324 Validation Accuracy at 0.6259999871253967\n",
      "Epoch 30, CIFAR-10 Batch 1:  Loss at 0.3757099509239197 Validation Accuracy at 0.6212000250816345\n",
      "Epoch 30, CIFAR-10 Batch 2:  Loss at 0.21689800918102264 Validation Accuracy at 0.6258000135421753\n",
      "Epoch 30, CIFAR-10 Batch 3:  Loss at 0.15177103877067566 Validation Accuracy at 0.6154000163078308\n",
      "Epoch 30, CIFAR-10 Batch 4:  Loss at 0.31200262904167175 Validation Accuracy at 0.6233999729156494\n",
      "Epoch 30, CIFAR-10 Batch 5:  Loss at 0.27137264609336853 Validation Accuracy at 0.6269999742507935\n",
      "Epoch 31, CIFAR-10 Batch 1:  Loss at 0.3810875415802002 Validation Accuracy at 0.6186000108718872\n",
      "Epoch 31, CIFAR-10 Batch 2:  Loss at 0.21527710556983948 Validation Accuracy at 0.6284000277519226\n",
      "Epoch 31, CIFAR-10 Batch 3:  Loss at 0.14506807923316956 Validation Accuracy at 0.6155999898910522\n",
      "Epoch 31, CIFAR-10 Batch 4:  Loss at 0.3099396526813507 Validation Accuracy at 0.6223999857902527\n",
      "Epoch 31, CIFAR-10 Batch 5:  Loss at 0.29004335403442383 Validation Accuracy at 0.6330000162124634\n",
      "Epoch 32, CIFAR-10 Batch 1:  Loss at 0.3517080247402191 Validation Accuracy at 0.6197999715805054\n",
      "Epoch 32, CIFAR-10 Batch 2:  Loss at 0.19932690262794495 Validation Accuracy at 0.6259999871253967\n",
      "Epoch 32, CIFAR-10 Batch 3:  Loss at 0.18011082708835602 Validation Accuracy at 0.6161999702453613\n",
      "Epoch 32, CIFAR-10 Batch 4:  Loss at 0.28282198309898376 Validation Accuracy at 0.6299999952316284\n",
      "Epoch 32, CIFAR-10 Batch 5:  Loss at 0.25099077820777893 Validation Accuracy at 0.631600022315979\n",
      "Epoch 33, CIFAR-10 Batch 1:  Loss at 0.3616875112056732 Validation Accuracy at 0.6197999715805054\n",
      "Epoch 33, CIFAR-10 Batch 2:  Loss at 0.2072490006685257 Validation Accuracy at 0.6223999857902527\n",
      "Epoch 33, CIFAR-10 Batch 3:  Loss at 0.16441860795021057 Validation Accuracy at 0.6151999831199646\n",
      "Epoch 33, CIFAR-10 Batch 4:  Loss at 0.26093602180480957 Validation Accuracy at 0.6276000142097473\n",
      "Epoch 33, CIFAR-10 Batch 5:  Loss at 0.23990876972675323 Validation Accuracy at 0.6212000250816345\n",
      "Epoch 34, CIFAR-10 Batch 1:  Loss at 0.3324333131313324 Validation Accuracy at 0.6197999715805054\n",
      "Epoch 34, CIFAR-10 Batch 2:  Loss at 0.2008129060268402 Validation Accuracy at 0.6154000163078308\n",
      "Epoch 34, CIFAR-10 Batch 3:  Loss at 0.1524198353290558 Validation Accuracy at 0.621399998664856\n",
      "Epoch 34, CIFAR-10 Batch 4:  Loss at 0.2928970754146576 Validation Accuracy at 0.623199999332428\n",
      "Epoch 34, CIFAR-10 Batch 5:  Loss at 0.21000926196575165 Validation Accuracy at 0.6291999816894531\n",
      "Epoch 35, CIFAR-10 Batch 1:  Loss at 0.3281349837779999 Validation Accuracy at 0.6154000163078308\n",
      "Epoch 35, CIFAR-10 Batch 2:  Loss at 0.2497694492340088 Validation Accuracy at 0.6141999959945679\n",
      "Epoch 35, CIFAR-10 Batch 3:  Loss at 0.16922767460346222 Validation Accuracy at 0.6222000122070312\n",
      "Epoch 35, CIFAR-10 Batch 4:  Loss at 0.28135910630226135 Validation Accuracy at 0.6204000115394592\n",
      "Epoch 35, CIFAR-10 Batch 5:  Loss at 0.21765665709972382 Validation Accuracy at 0.6223999857902527\n"
     ]
    }
   ],
   "source": [
    "\"\"\"\n",
    "DON'T MODIFY ANYTHING IN THIS CELL\n",
    "\"\"\"\n",
    "save_model_path = './image_classification'\n",
    "\n",
    "print('Training...')\n",
    "with tf.Session() as sess:\n",
    "    # Initializing the variables\n",
    "    sess.run(tf.global_variables_initializer())\n",
    "    \n",
    "    # Training cycle\n",
    "    for epoch in range(epochs):\n",
    "        # Loop over all batches\n",
    "        n_batches = 5\n",
    "        for batch_i in range(1, n_batches + 1):\n",
    "            for batch_features, batch_labels in helper.load_preprocess_training_batch(batch_i, batch_size):\n",
    "                train_neural_network(sess, optimizer, keep_probability, batch_features, batch_labels)\n",
    "            print('Epoch {:>2}, CIFAR-10 Batch {}:  '.format(epoch + 1, batch_i), end='')\n",
    "            print_stats(sess, batch_features, batch_labels, cost, accuracy)\n",
    "            \n",
    "    # Save Model\n",
    "    saver = tf.train.Saver()\n",
    "    save_path = saver.save(sess, save_model_path)"
   ]
  },
  {
   "cell_type": "markdown",
   "metadata": {},
   "source": [
    "# Checkpoint\n",
    "The model has been saved to disk.\n",
    "## Test Model\n",
    "Test your model against the test dataset.  This will be your final accuracy. You should have an accuracy greater than 50%. If you don't, keep tweaking the model architecture and parameters."
   ]
  },
  {
   "cell_type": "code",
   "execution_count": 349,
   "metadata": {
    "collapsed": false
   },
   "outputs": [
    {
     "name": "stdout",
     "output_type": "stream",
     "text": [
      "Testing Accuracy: 0.6285601265822784\n",
      "\n"
     ]
    },
    {
     "data": {
      "image/png": "[encoded data removed]",
      "text/plain": [
       "<matplotlib.figure.Figure at 0x116d4a518>"
      ]
     },
     "metadata": {
      "image/png": {
       "height": 319,
       "width": 355
      }
     },
     "output_type": "display_data"
    }
   ],
   "source": [
    "\"\"\"\n",
    "DON'T MODIFY ANYTHING IN THIS CELL\n",
    "\"\"\"\n",
    "%matplotlib inline\n",
    "%config InlineBackend.figure_format = 'retina'\n",
    "\n",
    "import tensorflow as tf\n",
    "import pickle\n",
    "import helper\n",
    "import random\n",
    "\n",
    "# Set batch size if not already set\n",
    "try:\n",
    "    if batch_size:\n",
    "        pass\n",
    "except NameError:\n",
    "    batch_size = 64\n",
    "\n",
    "save_model_path = './image_classification'\n",
    "n_samples = 4\n",
    "top_n_predictions = 3\n",
    "\n",
    "def test_model():\n",
    "    \"\"\"\n",
    "    Test the saved model against the test dataset\n",
    "    \"\"\"\n",
    "\n",
    "    test_features, test_labels = pickle.load(open('preprocess_training.p', mode='rb'))\n",
    "    loaded_graph = tf.Graph()\n",
    "\n",
    "    with tf.Session(graph=loaded_graph) as sess:\n",
    "        # Load model\n",
    "        loader = tf.train.import_meta_graph(save_model_path + '.meta')\n",
    "        loader.restore(sess, save_model_path)\n",
    "\n",
    "        # Get Tensors from loaded model\n",
    "        loaded_x = loaded_graph.get_tensor_by_name('x:0')\n",
    "        loaded_y = loaded_graph.get_tensor_by_name('y:0')\n",
    "        loaded_keep_prob = loaded_graph.get_tensor_by_name('keep_prob:0')\n",
    "        loaded_logits = loaded_graph.get_tensor_by_name('logits:0')\n",
    "        loaded_acc = loaded_graph.get_tensor_by_name('accuracy:0')\n",
    "        \n",
    "        # Get accuracy in batches for memory limitations\n",
    "        test_batch_acc_total = 0\n",
    "        test_batch_count = 0\n",
    "        \n",
    "        for train_feature_batch, train_label_batch in helper.batch_features_labels(test_features, test_labels, batch_size):\n",
    "            test_batch_acc_total += sess.run(\n",
    "                loaded_acc,\n",
    "                feed_dict={loaded_x: train_feature_batch, loaded_y: train_label_batch, loaded_keep_prob: 1.0})\n",
    "            test_batch_count += 1\n",
    "\n",
    "        print('Testing Accuracy: {}\\n'.format(test_batch_acc_total/test_batch_count))\n",
    "\n",
    "        # Print Random Samples\n",
    "        random_test_features, random_test_labels = tuple(zip(*random.sample(list(zip(test_features, test_labels)), n_samples)))\n",
    "        random_test_predictions = sess.run(\n",
    "            tf.nn.top_k(tf.nn.softmax(loaded_logits), top_n_predictions),\n",
    "            feed_dict={loaded_x: random_test_features, loaded_y: random_test_labels, loaded_keep_prob: 1.0})\n",
    "        helper.display_image_predictions(random_test_features, random_test_labels, random_test_predictions)\n",
    "\n",
    "\n",
    "test_model()"
   ]
  },
  {
   "cell_type": "markdown",
   "metadata": {},
   "source": [
    "## Why 50-70% Accuracy?\n",
    "You might be wondering why you can't get an accuracy any higher. First things first, 50% isn't bad for a simple CNN.  Pure guessing would get you 10% accuracy. However, you might notice people are getting scores [well above 70%](http://rodrigob.github.io/are_we_there_yet/build/classification_datasets_results.html#43494641522d3130).  That's because we haven't taught you all there is to know about neural networks. We still need to cover a few more techniques.\n",
    "## Submitting This Project\n",
    "When submitting this project, make sure to run all the cells before saving the notebook.  Save the notebook file as \"dlnd_image_classification.ipynb\" and save it as a HTML file under \"File\" -> \"Download as\".  Include the \"helper.py\" and \"problem_unittests.py\" files in your submission."
   ]
  }
 ],
 "metadata": {
  "kernelspec": {
   "display_name": "Python 3",
   "language": "python",
   "name": "python3"
  },
  "language_info": {
   "codemirror_mode": {
    "name": "ipython",
    "version": 3
   },
   "file_extension": ".py",
   "mimetype": "text/x-python",
   "name": "python",
   "nbconvert_exporter": "python",
   "pygments_lexer": "ipython3",
   "version": "3.5.2"
  },
  "widgets": {
   "state": {},
   "version": "1.1.2"
  }
 },
 "nbformat": 4,
 "nbformat_minor": 0
}
